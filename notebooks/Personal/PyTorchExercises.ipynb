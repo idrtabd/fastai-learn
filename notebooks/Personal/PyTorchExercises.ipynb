{
 "cells": [
  {
   "cell_type": "code",
   "execution_count": 1,
   "id": "ec1e9499",
   "metadata": {},
   "outputs": [
    {
     "name": "stdout",
     "output_type": "stream",
     "text": [
      "tensor([[0.5465, 0.3236, 0.9782],\n",
      "        [0.4342, 0.2156, 0.1171],\n",
      "        [0.2669, 0.8060, 0.6470]])\n",
      "tensor([[5, 5, 5],\n",
      "        [5, 5, 5],\n",
      "        [5, 5, 5]])\n",
      "tensor([[5.5465, 5.3236, 5.9782],\n",
      "        [5.4342, 5.2156, 5.1171],\n",
      "        [5.2669, 5.8060, 5.6470]])\n"
     ]
    }
   ],
   "source": [
    "import torch\n",
    "\n",
    "# Example 1\n",
    "tensor1 = torch.rand((3, 3))\n",
    "print(tensor1)\n",
    "\n",
    "# Example 2\n",
    "tensor2 = torch.full((3, 3), 5)\n",
    "print(tensor2)\n",
    "\n",
    "# Example 3\n",
    "result = tensor1 + tensor2\n",
    "print(result)"
   ]
  },
  {
   "cell_type": "code",
   "execution_count": 8,
   "id": "253313a5",
   "metadata": {},
   "outputs": [
    {
     "name": "stdout",
     "output_type": "stream",
     "text": [
      "torch.Size([2, 3])\n",
      "tensor([[1, 2, 3],\n",
      "        [4, 5, 6]])\n"
     ]
    }
   ],
   "source": [
    "tensor = torch.tensor([1, 2, 3, 4, 5, 6])\n",
    "reshaped_tensor = tensor.reshape(2, 3)\n",
    "print(reshaped_tensor.shape)  # Output: (2, 3)\n",
    "print(reshaped_tensor)"
   ]
  }
 ],
 "metadata": {
  "kernelspec": {
   "display_name": "Python 3 (ipykernel)",
   "language": "python",
   "name": "python3"
  },
  "language_info": {
   "codemirror_mode": {
    "name": "ipython",
    "version": 3
   },
   "file_extension": ".py",
   "mimetype": "text/x-python",
   "name": "python",
   "nbconvert_exporter": "python",
   "pygments_lexer": "ipython3",
   "version": "3.10.9"
  }
 },
 "nbformat": 4,
 "nbformat_minor": 5
}
